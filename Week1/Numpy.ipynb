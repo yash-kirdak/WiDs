{
 "cells": [
  {
   "cell_type": "code",
   "execution_count": 3,
   "id": "1ffeeb68",
   "metadata": {},
   "outputs": [],
   "source": [
    "import numpy as np"
   ]
  },
  {
   "cell_type": "code",
   "execution_count": 2,
   "id": "54e9e400",
   "metadata": {},
   "outputs": [],
   "source": [
    "matrix = np.array([\n",
    "        [5,5,84,3,9],\n",
    "        [6,11,1,55,58],\n",
    "        [1,20,48,12,36],\n",
    "        [8,4,41,93,98],\n",
    "        [6,17,64,0,13]\n",
    "    ])"
   ]
  },
  {
   "cell_type": "code",
   "execution_count": 5,
   "id": "f0d9ab23",
   "metadata": {},
   "outputs": [
    {
     "name": "stdout",
     "output_type": "stream",
     "text": [
      "[[ 5  0  0  0  0]\n",
      " [ 5 11  0  0  0]\n",
      " [84  1 48  0  0]\n",
      " [ 3 55 12 93  0]\n",
      " [ 9 58 36 98 13]]\n"
     ]
    }
   ],
   "source": [
    "def task1(matrix):\n",
    "    i,j= np.shape(matrix)\n",
    "    for k in range(i):\n",
    "        for l in range(j):\n",
    "            if k>l:\n",
    "                matrix[k][l]=0\n",
    "    \n",
    "    upper=np.triu(matrix)\n",
    "    return np.transpose(upper)\n",
    "print(task1(matrix))"
   ]
  },
  {
   "cell_type": "code",
   "execution_count": 12,
   "id": "64132ed1",
   "metadata": {},
   "outputs": [
    {
     "name": "stdout",
     "output_type": "stream",
     "text": [
      "Mean:  [ 1.   3.2 26.6 32.6 42.8]\n",
      "Median:  [ 0.  0.  1. 12. 36.]\n",
      "Standard Deviation:  [ 2.    4.35 34.13 36.09 32.73]\n",
      "Determinant:  3191760.0\n",
      "Inverse:  [[ 0.2  -0.09 -0.35  0.09  0.54]\n",
      " [ 0.    0.09 -0.   -0.05  0.  ]\n",
      " [ 0.    0.    0.02 -0.   -0.04]\n",
      " [ 0.    0.    0.    0.01 -0.08]\n",
      " [ 0.    0.    0.    0.    0.08]]\n"
     ]
    }
   ],
   "source": [
    "def task2(matrix):\n",
    "    '''return mean, median, std (precision 2), all along x, determinant, inverse, pseudo-inverse'''\n",
    "    mean = np.mean(matrix,axis=0)\n",
    "    median = np.median(matrix,axis=0,overwrite_input=False,keepdims=False,out=None)\n",
    "    std = np.std(matrix,axis=0)\n",
    "    det = np.linalg.det(matrix)\n",
    "    if(det!=0):\n",
    "        inv=np.linalg.inv(matrix)\n",
    "    else:\n",
    "        inv=None\n",
    "    pseudoinv=np.linalg.pinv(matrix)\n",
    "\n",
    "    return mean, median, std, det, inv, pseudoinv\n",
    "\n",
    "mean, median, std, det, inv, pseudoinv = task2(matrix)\n",
    "print(\"Mean: \", mean)\n",
    "print(\"Median: \", median)\n",
    "print(\"Standard Deviation: \", np.around(std, decimals = 2))\n",
    "print(\"Determinant: \", np.around(det,decimals = 2))\n",
    "if det != 0:\n",
    "    print(\"Inverse: \", np.around(inv,decimals=2))\n",
    "else:\n",
    "    print(\"Pseudo-Inverse: \", np.around(pseudoinv, decimals=2))"
   ]
  },
  {
   "cell_type": "code",
   "execution_count": 7,
   "id": "d603f47a",
   "metadata": {},
   "outputs": [
    {
     "name": "stdout",
     "output_type": "stream",
     "text": [
      "[[ 0  0  0  0  0  0  0  0  0  0  0]\n",
      " [ 0  0  0  0  0  0  0  0  0  0  0]\n",
      " [ 0  0  0  0  0  0  0  0  0  0  0]\n",
      " [ 0  0  0  5  5 84  3  9  0  0  0]\n",
      " [ 0  0  0  0 11  1 55 58  0  0  0]\n",
      " [ 0  0  0  0  0 48 12 36  0  0  0]\n",
      " [ 0  0  0  0  0  0 93 98  0  0  0]\n",
      " [ 0  0  0  0  0  0  0 13  0  0  0]\n",
      " [ 0  0  0  0  0  0  0  0  0  0  0]\n",
      " [ 0  0  0  0  0  0  0  0  0  0  0]\n",
      " [ 0  0  0  0  0  0  0  0  0  0  0]]\n"
     ]
    }
   ],
   "source": [
    "def task3(matrix, num = 0, padding = 3):\n",
    "    padded=np.pad(matrix,pad_width=padding,mode='constant',constant_values=num)\n",
    "    return padded\n",
    "\n",
    "print(task3(matrix))"
   ]
  },
  {
   "cell_type": "code",
   "execution_count": null,
   "id": "5bfa0a33",
   "metadata": {},
   "outputs": [],
   "source": []
  }
 ],
 "metadata": {
  "kernelspec": {
   "display_name": "Python 3 (ipykernel)",
   "language": "python",
   "name": "python3"
  },
  "language_info": {
   "codemirror_mode": {
    "name": "ipython",
    "version": 3
   },
   "file_extension": ".py",
   "mimetype": "text/x-python",
   "name": "python",
   "nbconvert_exporter": "python",
   "pygments_lexer": "ipython3",
   "version": "3.11.5"
  }
 },
 "nbformat": 4,
 "nbformat_minor": 5
}
